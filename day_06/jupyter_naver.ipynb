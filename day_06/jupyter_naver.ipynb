{
 "cells": [
  {
   "cell_type": "code",
   "execution_count": 2,
   "metadata": {},
   "outputs": [
    {
     "name": "stdout",
     "output_type": "stream",
     "text": [
      "Requirement already satisfied: selenium==3.0 in /Library/Frameworks/Python.framework/Versions/3.7/lib/python3.7/site-packages (3.0.0)\r\n"
     ]
    }
   ],
   "source": [
    "!pip install selenium==3.0"
   ]
  },
  {
   "cell_type": "code",
   "execution_count": 6,
   "metadata": {},
   "outputs": [],
   "source": [
    "from selenium import webdriver"
   ]
  },
  {
   "cell_type": "code",
   "execution_count": 12,
   "metadata": {},
   "outputs": [
    {
     "data": {
      "text/plain": [
       "True"
      ]
     },
     "execution_count": 12,
     "metadata": {},
     "output_type": "execute_result"
    }
   ],
   "source": [
    "driver = webdriver.Chrome('/Users/bomilee/Documents/GitHub/python_basic/day_06/chromedriver')\n",
    "driver.get('https://naver.com')\n",
    "driver.save_screenshot('sel1.png')"
   ]
  },
  {
   "cell_type": "markdown",
   "metadata": {},
   "source": [
    "chrome버전에 맞는 chrome driver를 설치.\n",
    "https://sites.google.com/a/chromium.org/chromedriver/downloads\n",
    "위 코드로 실행된 웹화면은 건드리면 안됨.\n",
    "\n",
    "새로 네이버 화면을 띄운다.\n",
    "개발자도구로 들어가 네이버로그인을 찍는다.\n",
    "copy selector (위치)--> #account > div > a > i\n",
    "copy xpath (키값)--> //*[@id=\"account\"]/div/a/i\n",
    "\n",
    "이제 네이버 로그인버튼을 클릭해보자."
   ]
  },
  {
   "cell_type": "code",
   "execution_count": 13,
   "metadata": {},
   "outputs": [],
   "source": [
    "xpath = '''//*[@id=\"account\"]/div/a/i'''\n",
    "driver.find_element_by_xpath(xpath).click()\n",
    "driver.save_screenshot('sel2.png')"
   ]
  },
  {
   "cell_type": "code",
   "execution_count": 14,
   "metadata": {},
   "outputs": [],
   "source": [
    "elem_login = driver.find_element_by_id('id')\n",
    "elem_login.clear()\n",
    "elem_login.send_keys('myid!')#아이디입력\n",
    "\n",
    "elem_login = driver.find_element_by_id('pw')\n",
    "elem_login.clear()\n",
    "elem_login.send_keys('password')#비밀번호입력"
   ]
  },
  {
   "cell_type": "code",
   "execution_count": 17,
   "metadata": {},
   "outputs": [
    {
     "data": {
      "text/plain": [
       "True"
      ]
     },
     "execution_count": 17,
     "metadata": {},
     "output_type": "execute_result"
    }
   ],
   "source": [
    "xpath = '''//*[@id=\"frmNIDLogin\"]/fieldset/input'''\n",
    "driver.find_element_by_xpath(xpath).click()#히히 네이버는 사람이로그인해야 로그인되도록 ..해서 자동입력방지문자뜬다..\n",
    "driver.save_screenshot('sel3.png')"
   ]
  },
  {
   "cell_type": "markdown",
   "metadata": {},
   "source": [
    "캡차 인증 후 로그인은 수동으로 한다."
   ]
  },
  {
   "cell_type": "code",
   "execution_count": 18,
   "metadata": {},
   "outputs": [],
   "source": [
    "driver.get('http://mail.naver.com')#메일~"
   ]
  },
  {
   "cell_type": "code",
   "execution_count": 20,
   "metadata": {},
   "outputs": [
    {
     "name": "stdout",
     "output_type": "stream",
     "text": [
      "Requirement already satisfied: beautifulsoup4 in /Library/Frameworks/Python.framework/Versions/3.7/lib/python3.7/site-packages (4.8.0)\r\n",
      "Requirement already satisfied: soupsieve>=1.2 in /Library/Frameworks/Python.framework/Versions/3.7/lib/python3.7/site-packages (from beautifulsoup4) (1.9.3)\r\n"
     ]
    }
   ],
   "source": [
    "!pip install beautifulsoup4"
   ]
  },
  {
   "cell_type": "code",
   "execution_count": 21,
   "metadata": {},
   "outputs": [],
   "source": [
    "from bs4 import BeautifulSoup\n",
    "\n",
    "#현재 selenium이 접근한 페이지 소스를 넘겨 받는다.\n",
    "html = driver.page_source\n",
    "soup = BeautifulSoup(html, 'html.parser')"
   ]
  },
  {
   "cell_type": "code",
   "execution_count": 23,
   "metadata": {},
   "outputs": [
    {
     "data": {
      "text/plain": [
       "[]"
      ]
     },
     "execution_count": 23,
     "metadata": {},
     "output_type": "execute_result"
    }
   ],
   "source": [
    "raw_list = soup.find_all('div', 'name_ccr(lst.from)')\n",
    "raw_list"
   ]
  },
  {
   "cell_type": "code",
   "execution_count": 24,
   "metadata": {},
   "outputs": [
    {
     "data": {
      "text/plain": [
       "[]"
      ]
     },
     "execution_count": 24,
     "metadata": {},
     "output_type": "execute_result"
    }
   ],
   "source": [
    "#보낸 사람들의 리스트 확보\n",
    "send_list = [raw_list[n].find('a').get_text() for n in range(0,len(raw_list))]\n",
    "send_list"
   ]
  },
  {
   "cell_type": "code",
   "execution_count": 25,
   "metadata": {},
   "outputs": [],
   "source": [
    "driver.close()"
   ]
  },
  {
   "cell_type": "code",
   "execution_count": null,
   "metadata": {},
   "outputs": [],
   "source": []
  }
 ],
 "metadata": {
  "kernelspec": {
   "display_name": "Python 3",
   "language": "python",
   "name": "python3"
  },
  "language_info": {
   "codemirror_mode": {
    "name": "ipython",
    "version": 3
   },
   "file_extension": ".py",
   "mimetype": "text/x-python",
   "name": "python",
   "nbconvert_exporter": "python",
   "pygments_lexer": "ipython3",
   "version": "3.7.4"
  }
 },
 "nbformat": 4,
 "nbformat_minor": 2
}
